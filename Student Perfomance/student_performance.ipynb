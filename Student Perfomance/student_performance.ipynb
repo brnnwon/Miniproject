{
  "cells": [
    {
      "cell_type": "markdown",
      "metadata": {
        "id": "view-in-github",
        "colab_type": "text"
      },
      "source": [
        "<a href=\"https://colab.research.google.com/github/brnnwon/Miniproject/blob/main/Student%20Perfomance/student_performance.ipynb\" target=\"_parent\"><img src=\"https://colab.research.google.com/assets/colab-badge.svg\" alt=\"Open In Colab\"/></a>"
      ]
    },
    {
      "cell_type": "markdown",
      "metadata": {
        "id": "TA-1uqVvxmrt"
      },
      "source": [
        "# Student Performance\n",
        "\n",
        "ข้อมูลผลการเรียนของนักเรียนใน 3 วิชา เลข (Math) การอ่าน (Reading) และ การเขียน (Writing) ทุกวิชาคะแนนเต็มร้อย\n",
        "\n",
        "### Data Description\n",
        "\n",
        "| Variable | Definition |\n",
        "| -------- | ---------- |\n",
        "| gender | male, female |\n",
        "| race/ethinicity | race/ethinicity group (A, B, C, D, E) |\n",
        "| parental level of education | Parent's education level <br> (some high school, high school, some college, associate's degree, bachelor's degree, master degree) |\n",
        "| lunch | lunch program in high school (free/reduced, standard) |\n",
        "| test preparation course | Whether the student took a the test preparation course (none, completed) |\n",
        "| math score | exam score for Math subject |\n",
        "| reading score | exam score for reading subject |\n",
        "| writing score | exam score for writing subject |\n",
        "\n",
        "**Variable Note**\n",
        "\n",
        "parental level of education เรียงจากต่ำไปสูงคือ\n",
        "1. some high school\n",
        "2. high school\n",
        "3. some college\n",
        "4. associate's degree\n",
        "5. bachelor's degree\n",
        "6. master degree\n",
        "\n",
        "### Objective:\n",
        "**ให้สร้าง model ทำนายผลคะแนนเฉลี่ย และตอบคำถามต่อไปนี้**\n",
        "\n",
        "- การเรียน test preparation course ส่งผลต่อผลคะแนนวิชาเลขไหม?\n",
        "- การเรียน test preparation course ส่งผลต่อผลคะแนนวิชาการอ่านไหม?\n",
        "- การเรียน test preparation course ส่งผลต่อผลคะแนนวิชาการเขียนไหม?\n",
        "- ปัจจัย 3 ลำดับแรกที่ส่งผลต่อคะแนนเฉลี่ยของนักเรียน?"
      ]
    },
    {
      "cell_type": "code",
      "execution_count": null,
      "metadata": {
        "id": "9XcDCVyJxgPc"
      },
      "outputs": [],
      "source": [
        "#import necsesary model\n",
        "import numpy as np\n",
        "import pandas as pd\n",
        "import matplotlib.pyplot as plt\n",
        "import seaborn as sns\n",
        "%matplotlib inline"
      ]
    },
    {
      "cell_type": "code",
      "execution_count": null,
      "metadata": {
        "id": "GeyfbRVSvfI9",
        "outputId": "ee92dfde-e1c5-47be-ba91-05bfae198d5d"
      },
      "outputs": [
        {
          "data": {
            "text/html": [
              "<div>\n",
              "<style scoped>\n",
              "    .dataframe tbody tr th:only-of-type {\n",
              "        vertical-align: middle;\n",
              "    }\n",
              "\n",
              "    .dataframe tbody tr th {\n",
              "        vertical-align: top;\n",
              "    }\n",
              "\n",
              "    .dataframe thead th {\n",
              "        text-align: right;\n",
              "    }\n",
              "</style>\n",
              "<table border=\"1\" class=\"dataframe\">\n",
              "  <thead>\n",
              "    <tr style=\"text-align: right;\">\n",
              "      <th></th>\n",
              "      <th>gender</th>\n",
              "      <th>race/ethnicity</th>\n",
              "      <th>parental level of education</th>\n",
              "      <th>lunch</th>\n",
              "      <th>test preparation course</th>\n",
              "      <th>math score</th>\n",
              "      <th>reading score</th>\n",
              "      <th>writing score</th>\n",
              "    </tr>\n",
              "  </thead>\n",
              "  <tbody>\n",
              "    <tr>\n",
              "      <th>0</th>\n",
              "      <td>female</td>\n",
              "      <td>group B</td>\n",
              "      <td>bachelor's degree</td>\n",
              "      <td>standard</td>\n",
              "      <td>none</td>\n",
              "      <td>72</td>\n",
              "      <td>72</td>\n",
              "      <td>74</td>\n",
              "    </tr>\n",
              "    <tr>\n",
              "      <th>1</th>\n",
              "      <td>female</td>\n",
              "      <td>group C</td>\n",
              "      <td>some college</td>\n",
              "      <td>standard</td>\n",
              "      <td>completed</td>\n",
              "      <td>69</td>\n",
              "      <td>90</td>\n",
              "      <td>88</td>\n",
              "    </tr>\n",
              "    <tr>\n",
              "      <th>2</th>\n",
              "      <td>female</td>\n",
              "      <td>group B</td>\n",
              "      <td>master's degree</td>\n",
              "      <td>standard</td>\n",
              "      <td>none</td>\n",
              "      <td>90</td>\n",
              "      <td>95</td>\n",
              "      <td>93</td>\n",
              "    </tr>\n",
              "    <tr>\n",
              "      <th>3</th>\n",
              "      <td>male</td>\n",
              "      <td>group A</td>\n",
              "      <td>associate's degree</td>\n",
              "      <td>free/reduced</td>\n",
              "      <td>none</td>\n",
              "      <td>47</td>\n",
              "      <td>57</td>\n",
              "      <td>44</td>\n",
              "    </tr>\n",
              "    <tr>\n",
              "      <th>4</th>\n",
              "      <td>male</td>\n",
              "      <td>group C</td>\n",
              "      <td>some college</td>\n",
              "      <td>standard</td>\n",
              "      <td>none</td>\n",
              "      <td>76</td>\n",
              "      <td>78</td>\n",
              "      <td>75</td>\n",
              "    </tr>\n",
              "  </tbody>\n",
              "</table>\n",
              "</div>"
            ],
            "text/plain": [
              "   gender race/ethnicity parental level of education         lunch  \\\n",
              "0  female        group B           bachelor's degree      standard   \n",
              "1  female        group C                some college      standard   \n",
              "2  female        group B             master's degree      standard   \n",
              "3    male        group A          associate's degree  free/reduced   \n",
              "4    male        group C                some college      standard   \n",
              "\n",
              "  test preparation course  math score  reading score  writing score  \n",
              "0                    none          72             72             74  \n",
              "1               completed          69             90             88  \n",
              "2                    none          90             95             93  \n",
              "3                    none          47             57             44  \n",
              "4                    none          76             78             75  "
            ]
          },
          "execution_count": 2,
          "metadata": {},
          "output_type": "execute_result"
        }
      ],
      "source": [
        "df = pd.read_csv('students_performance.csv')\n",
        "df.head()"
      ]
    },
    {
      "cell_type": "code",
      "execution_count": null,
      "metadata": {
        "id": "4T1w_mZ7vfI9",
        "outputId": "019d50fd-0b7c-45d7-ff3c-8fdd5921cd28"
      },
      "outputs": [
        {
          "data": {
            "text/plain": [
              "(1000, 8)"
            ]
          },
          "execution_count": 3,
          "metadata": {},
          "output_type": "execute_result"
        }
      ],
      "source": [
        "df.shape"
      ]
    },
    {
      "cell_type": "code",
      "execution_count": null,
      "metadata": {
        "id": "_Jgofs2yvfI9",
        "outputId": "955c62ac-f022-4b96-f627-041e6d00e2ad"
      },
      "outputs": [
        {
          "name": "stdout",
          "output_type": "stream",
          "text": [
            "<class 'pandas.core.frame.DataFrame'>\n",
            "RangeIndex: 1000 entries, 0 to 999\n",
            "Data columns (total 8 columns):\n",
            " #   Column                       Non-Null Count  Dtype \n",
            "---  ------                       --------------  ----- \n",
            " 0   gender                       1000 non-null   object\n",
            " 1   race/ethnicity               1000 non-null   object\n",
            " 2   parental level of education  1000 non-null   object\n",
            " 3   lunch                        1000 non-null   object\n",
            " 4   test preparation course      1000 non-null   object\n",
            " 5   math score                   1000 non-null   int64 \n",
            " 6   reading score                1000 non-null   int64 \n",
            " 7   writing score                1000 non-null   int64 \n",
            "dtypes: int64(3), object(5)\n",
            "memory usage: 62.6+ KB\n"
          ]
        }
      ],
      "source": [
        "df.info()"
      ]
    },
    {
      "cell_type": "code",
      "execution_count": null,
      "metadata": {
        "id": "6G9DkgYUvfI-",
        "outputId": "4c08ba87-41d6-4dd0-a430-c2ac59b3c9af"
      },
      "outputs": [
        {
          "data": {
            "text/html": [
              "<div>\n",
              "<style scoped>\n",
              "    .dataframe tbody tr th:only-of-type {\n",
              "        vertical-align: middle;\n",
              "    }\n",
              "\n",
              "    .dataframe tbody tr th {\n",
              "        vertical-align: top;\n",
              "    }\n",
              "\n",
              "    .dataframe thead th {\n",
              "        text-align: right;\n",
              "    }\n",
              "</style>\n",
              "<table border=\"1\" class=\"dataframe\">\n",
              "  <thead>\n",
              "    <tr style=\"text-align: right;\">\n",
              "      <th></th>\n",
              "      <th>math score</th>\n",
              "      <th>reading score</th>\n",
              "      <th>writing score</th>\n",
              "    </tr>\n",
              "  </thead>\n",
              "  <tbody>\n",
              "    <tr>\n",
              "      <th>count</th>\n",
              "      <td>1000.000000</td>\n",
              "      <td>1000.000000</td>\n",
              "      <td>1000.000000</td>\n",
              "    </tr>\n",
              "    <tr>\n",
              "      <th>mean</th>\n",
              "      <td>66.389000</td>\n",
              "      <td>69.269000</td>\n",
              "      <td>68.154000</td>\n",
              "    </tr>\n",
              "    <tr>\n",
              "      <th>std</th>\n",
              "      <td>16.223714</td>\n",
              "      <td>15.143909</td>\n",
              "      <td>15.469182</td>\n",
              "    </tr>\n",
              "    <tr>\n",
              "      <th>min</th>\n",
              "      <td>0.000000</td>\n",
              "      <td>17.000000</td>\n",
              "      <td>10.000000</td>\n",
              "    </tr>\n",
              "    <tr>\n",
              "      <th>25%</th>\n",
              "      <td>57.000000</td>\n",
              "      <td>59.000000</td>\n",
              "      <td>57.750000</td>\n",
              "    </tr>\n",
              "    <tr>\n",
              "      <th>50%</th>\n",
              "      <td>66.000000</td>\n",
              "      <td>70.000000</td>\n",
              "      <td>69.000000</td>\n",
              "    </tr>\n",
              "    <tr>\n",
              "      <th>75%</th>\n",
              "      <td>77.000000</td>\n",
              "      <td>79.000000</td>\n",
              "      <td>79.000000</td>\n",
              "    </tr>\n",
              "    <tr>\n",
              "      <th>max</th>\n",
              "      <td>229.000000</td>\n",
              "      <td>200.000000</td>\n",
              "      <td>160.000000</td>\n",
              "    </tr>\n",
              "  </tbody>\n",
              "</table>\n",
              "</div>"
            ],
            "text/plain": [
              "        math score  reading score  writing score\n",
              "count  1000.000000    1000.000000    1000.000000\n",
              "mean     66.389000      69.269000      68.154000\n",
              "std      16.223714      15.143909      15.469182\n",
              "min       0.000000      17.000000      10.000000\n",
              "25%      57.000000      59.000000      57.750000\n",
              "50%      66.000000      70.000000      69.000000\n",
              "75%      77.000000      79.000000      79.000000\n",
              "max     229.000000     200.000000     160.000000"
            ]
          },
          "execution_count": 5,
          "metadata": {},
          "output_type": "execute_result"
        }
      ],
      "source": [
        "df.describe()"
      ]
    },
    {
      "cell_type": "code",
      "execution_count": null,
      "metadata": {
        "id": "qd8V_YBVvfI-"
      },
      "outputs": [],
      "source": [
        "df['mean_score'] = (df['math score'] + df['reading score'] + df['writing score'])/3"
      ]
    },
    {
      "cell_type": "code",
      "execution_count": null,
      "metadata": {
        "id": "Yai7JLw7vfI-",
        "outputId": "e6304f56-1dcd-46cb-a960-ccf63856f4f1"
      },
      "outputs": [
        {
          "data": {
            "text/html": [
              "<div>\n",
              "<style scoped>\n",
              "    .dataframe tbody tr th:only-of-type {\n",
              "        vertical-align: middle;\n",
              "    }\n",
              "\n",
              "    .dataframe tbody tr th {\n",
              "        vertical-align: top;\n",
              "    }\n",
              "\n",
              "    .dataframe thead th {\n",
              "        text-align: right;\n",
              "    }\n",
              "</style>\n",
              "<table border=\"1\" class=\"dataframe\">\n",
              "  <thead>\n",
              "    <tr style=\"text-align: right;\">\n",
              "      <th></th>\n",
              "      <th>gender</th>\n",
              "      <th>race/ethnicity</th>\n",
              "      <th>parental level of education</th>\n",
              "      <th>lunch</th>\n",
              "      <th>test preparation course</th>\n",
              "      <th>math score</th>\n",
              "      <th>reading score</th>\n",
              "      <th>writing score</th>\n",
              "      <th>mean_score</th>\n",
              "    </tr>\n",
              "  </thead>\n",
              "  <tbody>\n",
              "    <tr>\n",
              "      <th>0</th>\n",
              "      <td>female</td>\n",
              "      <td>group B</td>\n",
              "      <td>bachelor's degree</td>\n",
              "      <td>standard</td>\n",
              "      <td>none</td>\n",
              "      <td>72</td>\n",
              "      <td>72</td>\n",
              "      <td>74</td>\n",
              "      <td>72.666667</td>\n",
              "    </tr>\n",
              "    <tr>\n",
              "      <th>1</th>\n",
              "      <td>female</td>\n",
              "      <td>group C</td>\n",
              "      <td>some college</td>\n",
              "      <td>standard</td>\n",
              "      <td>completed</td>\n",
              "      <td>69</td>\n",
              "      <td>90</td>\n",
              "      <td>88</td>\n",
              "      <td>82.333333</td>\n",
              "    </tr>\n",
              "    <tr>\n",
              "      <th>2</th>\n",
              "      <td>female</td>\n",
              "      <td>group B</td>\n",
              "      <td>master's degree</td>\n",
              "      <td>standard</td>\n",
              "      <td>none</td>\n",
              "      <td>90</td>\n",
              "      <td>95</td>\n",
              "      <td>93</td>\n",
              "      <td>92.666667</td>\n",
              "    </tr>\n",
              "    <tr>\n",
              "      <th>3</th>\n",
              "      <td>male</td>\n",
              "      <td>group A</td>\n",
              "      <td>associate's degree</td>\n",
              "      <td>free/reduced</td>\n",
              "      <td>none</td>\n",
              "      <td>47</td>\n",
              "      <td>57</td>\n",
              "      <td>44</td>\n",
              "      <td>49.333333</td>\n",
              "    </tr>\n",
              "    <tr>\n",
              "      <th>4</th>\n",
              "      <td>male</td>\n",
              "      <td>group C</td>\n",
              "      <td>some college</td>\n",
              "      <td>standard</td>\n",
              "      <td>none</td>\n",
              "      <td>76</td>\n",
              "      <td>78</td>\n",
              "      <td>75</td>\n",
              "      <td>76.333333</td>\n",
              "    </tr>\n",
              "  </tbody>\n",
              "</table>\n",
              "</div>"
            ],
            "text/plain": [
              "   gender race/ethnicity parental level of education         lunch  \\\n",
              "0  female        group B           bachelor's degree      standard   \n",
              "1  female        group C                some college      standard   \n",
              "2  female        group B             master's degree      standard   \n",
              "3    male        group A          associate's degree  free/reduced   \n",
              "4    male        group C                some college      standard   \n",
              "\n",
              "  test preparation course  math score  reading score  writing score  \\\n",
              "0                    none          72             72             74   \n",
              "1               completed          69             90             88   \n",
              "2                    none          90             95             93   \n",
              "3                    none          47             57             44   \n",
              "4                    none          76             78             75   \n",
              "\n",
              "   mean_score  \n",
              "0   72.666667  \n",
              "1   82.333333  \n",
              "2   92.666667  \n",
              "3   49.333333  \n",
              "4   76.333333  "
            ]
          },
          "execution_count": 8,
          "metadata": {},
          "output_type": "execute_result"
        }
      ],
      "source": [
        "df.head()"
      ]
    },
    {
      "cell_type": "code",
      "execution_count": null,
      "metadata": {
        "id": "fbP2APYRvfI-",
        "outputId": "fb0bed0f-8a33-475b-d779-ea698b74b780"
      },
      "outputs": [
        {
          "data": {
            "text/plain": [
              "gender                         0\n",
              "race/ethnicity                 0\n",
              "parental level of education    0\n",
              "lunch                          0\n",
              "test preparation course        0\n",
              "math score                     0\n",
              "reading score                  0\n",
              "writing score                  0\n",
              "mean_score                     0\n",
              "dtype: int64"
            ]
          },
          "execution_count": 9,
          "metadata": {},
          "output_type": "execute_result"
        }
      ],
      "source": [
        "df.isnull().sum()"
      ]
    },
    {
      "cell_type": "code",
      "execution_count": null,
      "metadata": {
        "id": "kI5hdjoNvfI-"
      },
      "outputs": [],
      "source": [
        "test_prep = df.groupby('test preparation course')[['writing score', 'math score', 'reading score', 'mean_score']].mean()"
      ]
    },
    {
      "cell_type": "code",
      "execution_count": null,
      "metadata": {
        "id": "-PnTRMF8vfI_",
        "outputId": "985612d4-19fa-4757-9998-f4baa874fca9"
      },
      "outputs": [
        {
          "data": {
            "text/plain": [
              "<AxesSubplot:xlabel='test preparation course'>"
            ]
          },
          "execution_count": 41,
          "metadata": {},
          "output_type": "execute_result"
        },
        {
          "data": {
            "image/png": "[encoded data removed]",
            "text/plain": [
              "<Figure size 432x288 with 1 Axes>"
            ]
          },
          "metadata": {
            "needs_background": "light"
          },
          "output_type": "display_data"
        }
      ],
      "source": [
        "df.groupby('test preparation course')[['writing score', 'math score', 'reading score', 'mean_score']].mean().plot(kind='bar')"
      ]
    },
    {
      "cell_type": "markdown",
      "metadata": {
        "id": "CLQVblfmvfI_"
      },
      "source": [
        "Test preparation course มีผลต่อผลคะแนนในรายวิชาต่างๆ"
      ]
    },
    {
      "cell_type": "markdown",
      "metadata": {
        "id": "zy8hjoHIvfI_"
      },
      "source": [
        "Data Visualization"
      ]
    },
    {
      "cell_type": "code",
      "execution_count": null,
      "metadata": {
        "id": "4em3XCSgvfI_",
        "outputId": "9095e2ea-af18-4d30-efb1-f23c1eb63c21"
      },
      "outputs": [
        {
          "data": {
            "image/png": "[encoded data removed]",
            "text/plain": [
              "<Figure size 720x576 with 1 Axes>"
            ]
          },
          "metadata": {
            "needs_background": "light"
          },
          "output_type": "display_data"
        }
      ],
      "source": [
        "df.boxplot(column= ['math score', 'reading score', 'writing score', 'mean_score'], figsize=(10,8))\n",
        "plt.show()"
      ]
    },
    {
      "cell_type": "code",
      "execution_count": null,
      "metadata": {
        "id": "G9uHLsQMvfI_",
        "outputId": "a98dce46-414e-4a49-9033-9f5f318f4bed"
      },
      "outputs": [
        {
          "data": {
            "image/png": "[encoded data removed]",
            "text/plain": [
              "<Figure size 720x576 with 4 Axes>"
            ]
          },
          "metadata": {
            "needs_background": "light"
          },
          "output_type": "display_data"
        }
      ],
      "source": [
        "df.hist(column= ['math score', 'reading score', 'writing score', 'mean_score'], figsize=(10,8))\n",
        "plt.show()"
      ]
    },
    {
      "cell_type": "code",
      "execution_count": null,
      "metadata": {
        "id": "Lxp8u8XavfI_"
      },
      "outputs": [],
      "source": [
        "# for col in ['math score', 'reading score', 'writing score', 'mean_score']:\n",
        "#     sns.displot(df[col])\n",
        "#     plt.show()"
      ]
    },
    {
      "cell_type": "code",
      "execution_count": null,
      "metadata": {
        "id": "rwRd1JGIvfJA",
        "outputId": "2f5f4847-63e9-4641-e01b-21bd28bbeb6b"
      },
      "outputs": [
        {
          "data": {
            "image/png": "[encoded data removed]",
            "text/plain": [
              "<Figure size 720x360 with 2 Axes>"
            ]
          },
          "metadata": {
            "needs_background": "light"
          },
          "output_type": "display_data"
        }
      ],
      "source": [
        "sns.relplot(data=df, x = 'reading score', y = 'math score', col = 'test preparation course', kind='scatter', alpha = 0.5)\n",
        "plt.show()"
      ]
    },
    {
      "cell_type": "code",
      "execution_count": null,
      "metadata": {
        "id": "LNi4zPaQvfJA",
        "outputId": "63b6298e-f740-4607-841a-6d9c31763711"
      },
      "outputs": [
        {
          "data": {
            "image/png": "[encoded data removed]",
            "text/plain": [
              "<Figure size 720x360 with 2 Axes>"
            ]
          },
          "metadata": {
            "needs_background": "light"
          },
          "output_type": "display_data"
        }
      ],
      "source": [
        "sns.relplot(data=df, x = 'writing score', y = 'math score', col = 'test preparation course', kind='scatter', alpha = 0.5)\n",
        "plt.show()"
      ]
    },
    {
      "cell_type": "code",
      "execution_count": null,
      "metadata": {
        "id": "0e1wW9oovfJA",
        "outputId": "5bc29c88-c5b5-40c7-8b2d-f95477e5315a"
      },
      "outputs": [
        {
          "data": {
            "image/png": "[encoded data removed]",
            "text/plain": [
              "<Figure size 432x288 with 1 Axes>"
            ]
          },
          "metadata": {
            "needs_background": "light"
          },
          "output_type": "display_data"
        }
      ],
      "source": [
        "# sns.set_context(\"talk\",font_scale=0.5)\n",
        "sns.set_palette(\"Pastel2\")\n",
        "sns.kdeplot(data=df, x=\"math score\", hue=\"test preparation course\", multiple=\"stack\")\n",
        "plt.title('math score vs Test Preparation')\n",
        "\n",
        "plt.show()"
      ]
    },
    {
      "cell_type": "code",
      "execution_count": null,
      "metadata": {
        "id": "oPKxLmgMvfJA",
        "outputId": "a17f6cd3-c384-470f-cdaa-ae7c1f2dbe46"
      },
      "outputs": [
        {
          "data": {
            "image/png": "[encoded data removed]",
            "text/plain": [
              "<Figure size 432x288 with 1 Axes>"
            ]
          },
          "metadata": {
            "needs_background": "light"
          },
          "output_type": "display_data"
        }
      ],
      "source": [
        "sns.set_palette(\"Pastel2\")\n",
        "sns.kdeplot(data=df, x=\"writing score\", hue=\"test preparation course\", multiple=\"stack\")\n",
        "plt.title('math score vs Test Preparation')\n",
        "\n",
        "plt.show()"
      ]
    },
    {
      "cell_type": "code",
      "execution_count": null,
      "metadata": {
        "id": "w3438ZZnvfJA",
        "outputId": "a8444d1c-504d-4dda-dd4b-5b36a15e8de9"
      },
      "outputs": [
        {
          "data": {
            "image/png": "[encoded data removed]",
            "text/plain": [
              "<Figure size 432x288 with 1 Axes>"
            ]
          },
          "metadata": {
            "needs_background": "light"
          },
          "output_type": "display_data"
        }
      ],
      "source": [
        "sns.set_palette(\"Pastel2\")\n",
        "sns.kdeplot(data=df, x=\"reading score\", hue=\"test preparation course\", multiple=\"stack\")\n",
        "plt.title('math score vs Test Preparation')\n",
        "\n",
        "plt.show()"
      ]
    },
    {
      "cell_type": "code",
      "execution_count": null,
      "metadata": {
        "id": "iTcx1h_yvfJB",
        "outputId": "606b8573-1fc6-4332-ddaa-342033199c3c"
      },
      "outputs": [
        {
          "data": {
            "image/png": "[encoded data removed]",
            "text/plain": [
              "<Figure size 432x288 with 1 Axes>"
            ]
          },
          "metadata": {
            "needs_background": "light"
          },
          "output_type": "display_data"
        }
      ],
      "source": [
        "sns.set_palette(\"Pastel2\")\n",
        "sns.kdeplot(data=df, x=\"mean_score\", hue=\"test preparation course\", multiple=\"stack\")\n",
        "plt.title('math score vs Test Preparation')\n",
        "\n",
        "plt.show()"
      ]
    },
    {
      "cell_type": "code",
      "execution_count": null,
      "metadata": {
        "id": "D7e6rjW9vfJB",
        "outputId": "39ccc387-1d10-4cfb-be78-06df1b27e4ac"
      },
      "outputs": [
        {
          "data": {
            "text/html": [
              "<div>\n",
              "<style scoped>\n",
              "    .dataframe tbody tr th:only-of-type {\n",
              "        vertical-align: middle;\n",
              "    }\n",
              "\n",
              "    .dataframe tbody tr th {\n",
              "        vertical-align: top;\n",
              "    }\n",
              "\n",
              "    .dataframe thead th {\n",
              "        text-align: right;\n",
              "    }\n",
              "</style>\n",
              "<table border=\"1\" class=\"dataframe\">\n",
              "  <thead>\n",
              "    <tr style=\"text-align: right;\">\n",
              "      <th></th>\n",
              "      <th>math score</th>\n",
              "      <th>reading score</th>\n",
              "      <th>writing score</th>\n",
              "      <th>mean_score</th>\n",
              "    </tr>\n",
              "  </thead>\n",
              "  <tbody>\n",
              "    <tr>\n",
              "      <th>math score</th>\n",
              "      <td>1.000000</td>\n",
              "      <td>0.722885</td>\n",
              "      <td>0.721528</td>\n",
              "      <td>0.884560</td>\n",
              "    </tr>\n",
              "    <tr>\n",
              "      <th>reading score</th>\n",
              "      <td>0.722885</td>\n",
              "      <td>1.000000</td>\n",
              "      <td>0.915023</td>\n",
              "      <td>0.946726</td>\n",
              "    </tr>\n",
              "    <tr>\n",
              "      <th>writing score</th>\n",
              "      <td>0.721528</td>\n",
              "      <td>0.915023</td>\n",
              "      <td>1.000000</td>\n",
              "      <td>0.946856</td>\n",
              "    </tr>\n",
              "    <tr>\n",
              "      <th>mean_score</th>\n",
              "      <td>0.884560</td>\n",
              "      <td>0.946726</td>\n",
              "      <td>0.946856</td>\n",
              "      <td>1.000000</td>\n",
              "    </tr>\n",
              "  </tbody>\n",
              "</table>\n",
              "</div>"
            ],
            "text/plain": [
              "               math score  reading score  writing score  mean_score\n",
              "math score       1.000000       0.722885       0.721528    0.884560\n",
              "reading score    0.722885       1.000000       0.915023    0.946726\n",
              "writing score    0.721528       0.915023       1.000000    0.946856\n",
              "mean_score       0.884560       0.946726       0.946856    1.000000"
            ]
          },
          "execution_count": 20,
          "metadata": {},
          "output_type": "execute_result"
        }
      ],
      "source": [
        "df[['math score', 'reading score', 'writing score', 'mean_score']].corr()"
      ]
    },
    {
      "cell_type": "code",
      "execution_count": null,
      "metadata": {
        "id": "ZPnEm3ZtvfJB",
        "outputId": "59be44d2-f8ef-468d-ffb2-88188f00f0b2"
      },
      "outputs": [
        {
          "data": {
            "image/png": "[encoded data removed]",
            "text/plain": [
              "<Figure size 864x576 with 2 Axes>"
            ]
          },
          "metadata": {
            "needs_background": "light"
          },
          "output_type": "display_data"
        }
      ],
      "source": [
        "plt.figure(figsize=(12,8))\n",
        "ax = sns.heatmap(df[['math score', 'reading score', 'writing score', 'mean_score']].corr(), square = True, annot=True, fmt = \".2f\", cmap = \"YlGnBu\")\n",
        "plt.show()"
      ]
    },
    {
      "cell_type": "markdown",
      "metadata": {
        "id": "ya2lKGH2vfJB"
      },
      "source": [
        "Preprocessing"
      ]
    },
    {
      "cell_type": "code",
      "execution_count": null,
      "metadata": {
        "id": "1NvULfo3vfJB",
        "outputId": "774ea413-5581-4c4f-f6ca-17e550216453"
      },
      "outputs": [
        {
          "data": {
            "image/png": "[encoded data removed]",
            "text/plain": [
              "<Figure size 360x360 with 1 Axes>"
            ]
          },
          "metadata": {
            "needs_background": "light"
          },
          "output_type": "display_data"
        }
      ],
      "source": [
        "#Remove outlier\n",
        "sns.catplot(data = df, x = 'mean_score', kind='box')\n",
        "plt.show()"
      ]
    },
    {
      "cell_type": "code",
      "execution_count": null,
      "metadata": {
        "id": "wKZJIWv5vfJB",
        "outputId": "84c4aa54-b69f-441f-9e61-87f12c14e52a"
      },
      "outputs": [
        {
          "data": {
            "text/plain": [
              "19.666666666666664"
            ]
          },
          "execution_count": 25,
          "metadata": {},
          "output_type": "execute_result"
        }
      ],
      "source": [
        "cal_Q1 = df[\"mean_score\"].quantile(0.25)\n",
        "cal_Q3 = df[\"mean_score\"].quantile(0.75)\n",
        "cal_IQR = cal_Q3 - cal_Q1\n",
        "cal_IQR"
      ]
    },
    {
      "cell_type": "code",
      "execution_count": null,
      "metadata": {
        "id": "kPMOhVYsvfJC",
        "outputId": "0fbe0eb4-4d43-4cba-84e6-0150bc6ef113"
      },
      "outputs": [
        {
          "name": "stdout",
          "output_type": "stream",
          "text": [
            "lower: 28.83333333333334 upper: 107.5\n"
          ]
        }
      ],
      "source": [
        "lower_limit = cal_Q1 - 1.5 * cal_IQR\n",
        "upper_limit = cal_Q3 + 1.5 * cal_IQR\n",
        "print('lower:', lower_limit, 'upper:', upper_limit)"
      ]
    },
    {
      "cell_type": "code",
      "execution_count": null,
      "metadata": {
        "id": "ZU539Ui4vfJC",
        "outputId": "5c53f818-1e7e-44f7-8f36-33a87a60d095"
      },
      "outputs": [
        {
          "data": {
            "text/plain": [
              "(993, 9)"
            ]
          },
          "execution_count": 29,
          "metadata": {},
          "output_type": "execute_result"
        }
      ],
      "source": [
        "df = df[(df['mean_score'] > lower_limit) & (df['mean_score'] < upper_limit)]\n",
        "df.shape"
      ]
    },
    {
      "cell_type": "code",
      "execution_count": null,
      "metadata": {
        "id": "Fag6yRxpvfJC",
        "outputId": "f39355df-5702-49ea-c36f-a97923e5a6d5"
      },
      "outputs": [
        {
          "data": {
            "image/png": "[encoded data removed]",
            "text/plain": [
              "<Figure size 360x360 with 1 Axes>"
            ]
          },
          "metadata": {
            "needs_background": "light"
          },
          "output_type": "display_data"
        }
      ],
      "source": [
        "sns.catplot(data = df, x = 'mean_score', kind='box')\n",
        "plt.show()"
      ]
    },
    {
      "cell_type": "markdown",
      "metadata": {
        "id": "yr8SWKK3vfJC"
      },
      "source": [
        "Manipulating with categorical data"
      ]
    },
    {
      "cell_type": "code",
      "execution_count": null,
      "metadata": {
        "id": "nn99DOqyvfJC",
        "outputId": "d6c2e711-ba32-4081-fbfb-e686f5b11b9a"
      },
      "outputs": [
        {
          "name": "stdout",
          "output_type": "stream",
          "text": [
            "['female' 'male']\n",
            "['group B' 'group C' 'group A' 'group D' 'group E']\n",
            "[\"bachelor's degree\" 'some college' \"master's degree\" \"associate's degree\"\n",
            " 'high school' 'some high school']\n",
            "['standard' 'free/reduced']\n",
            "['none' 'completed']\n"
          ]
        }
      ],
      "source": [
        "#Display data wihtin the categorical features\n",
        "cols = ['gender', 'race/ethnicity', 'parental level of education', 'lunch', 'test preparation course']\n",
        "for col in cols:\n",
        "    print(df[col].unique())"
      ]
    },
    {
      "cell_type": "code",
      "execution_count": null,
      "metadata": {
        "id": "TKuKeW0AvfJC"
      },
      "outputs": [],
      "source": [
        "#Categorical to Numerical\n",
        "df['gender'] = df['gender'].apply(lambda x : 1 if x == 'male' else 0)\n",
        "df['lunch'] = df['lunch'].apply(lambda x : 1 if x == 'standard' else 0)\n",
        "df['test preparation course'] = df['test preparation course'].apply(lambda x : 1 if x == 'completed' else 0)"
      ]
    },
    {
      "cell_type": "code",
      "execution_count": null,
      "metadata": {
        "id": "WJWgR71VvfJC"
      },
      "outputs": [],
      "source": [
        "#Ordinal data\n",
        "scale_map = {\"some high school\" : 0, \"high school\" : 1, \"some college\" : 2, \"associate's degree\" : 3, \"bachelor's degree\" : 4, \"master's degree\" : 5}\n",
        "df['parental level of education'] = df['parental level of education'].replace(scale_map)\n"
      ]
    },
    {
      "cell_type": "code",
      "execution_count": null,
      "metadata": {
        "id": "_HzbzDOmvfJC"
      },
      "outputs": [],
      "source": [
        "#One hot enconding for race/ethnicity\n",
        "onehot_column = pd.get_dummies(df'race/ethnicity', prefix=['race/ethnicity'])\n",
        "df = pd.concat([df, onehot_column], axis = 1)\n",
        "df.drop(columns='race/ethnicity', axis=1, inplace=True)"
      ]
    },
    {
      "cell_type": "code",
      "execution_count": null,
      "metadata": {
        "id": "P-d-rebBvfJD"
      },
      "outputs": [],
      "source": [
        "#drop score feature\n",
        "df.drop(['math score', 'reading score', 'writing score'], axis=1, inplace=True)"
      ]
    },
    {
      "cell_type": "code",
      "execution_count": null,
      "metadata": {
        "id": "5eNkXKwrvfJD",
        "outputId": "f2b62de3-4d02-4841-c50c-04148b6475fa"
      },
      "outputs": [
        {
          "data": {
            "text/html": [
              "<div>\n",
              "<style scoped>\n",
              "    .dataframe tbody tr th:only-of-type {\n",
              "        vertical-align: middle;\n",
              "    }\n",
              "\n",
              "    .dataframe tbody tr th {\n",
              "        vertical-align: top;\n",
              "    }\n",
              "\n",
              "    .dataframe thead th {\n",
              "        text-align: right;\n",
              "    }\n",
              "</style>\n",
              "<table border=\"1\" class=\"dataframe\">\n",
              "  <thead>\n",
              "    <tr style=\"text-align: right;\">\n",
              "      <th></th>\n",
              "      <th>gender</th>\n",
              "      <th>parental level of education</th>\n",
              "      <th>lunch</th>\n",
              "      <th>test preparation course</th>\n",
              "      <th>mean_score</th>\n",
              "      <th>['race/ethnicity']_group A</th>\n",
              "      <th>['race/ethnicity']_group B</th>\n",
              "      <th>['race/ethnicity']_group C</th>\n",
              "      <th>['race/ethnicity']_group D</th>\n",
              "      <th>['race/ethnicity']_group E</th>\n",
              "    </tr>\n",
              "  </thead>\n",
              "  <tbody>\n",
              "    <tr>\n",
              "      <th>0</th>\n",
              "      <td>0</td>\n",
              "      <td>4</td>\n",
              "      <td>1</td>\n",
              "      <td>0</td>\n",
              "      <td>72.666667</td>\n",
              "      <td>0</td>\n",
              "      <td>1</td>\n",
              "      <td>0</td>\n",
              "      <td>0</td>\n",
              "      <td>0</td>\n",
              "    </tr>\n",
              "    <tr>\n",
              "      <th>1</th>\n",
              "      <td>0</td>\n",
              "      <td>2</td>\n",
              "      <td>1</td>\n",
              "      <td>1</td>\n",
              "      <td>82.333333</td>\n",
              "      <td>0</td>\n",
              "      <td>0</td>\n",
              "      <td>1</td>\n",
              "      <td>0</td>\n",
              "      <td>0</td>\n",
              "    </tr>\n",
              "    <tr>\n",
              "      <th>2</th>\n",
              "      <td>0</td>\n",
              "      <td>5</td>\n",
              "      <td>1</td>\n",
              "      <td>0</td>\n",
              "      <td>92.666667</td>\n",
              "      <td>0</td>\n",
              "      <td>1</td>\n",
              "      <td>0</td>\n",
              "      <td>0</td>\n",
              "      <td>0</td>\n",
              "    </tr>\n",
              "    <tr>\n",
              "      <th>3</th>\n",
              "      <td>0</td>\n",
              "      <td>3</td>\n",
              "      <td>0</td>\n",
              "      <td>0</td>\n",
              "      <td>49.333333</td>\n",
              "      <td>1</td>\n",
              "      <td>0</td>\n",
              "      <td>0</td>\n",
              "      <td>0</td>\n",
              "      <td>0</td>\n",
              "    </tr>\n",
              "    <tr>\n",
              "      <th>4</th>\n",
              "      <td>0</td>\n",
              "      <td>2</td>\n",
              "      <td>1</td>\n",
              "      <td>0</td>\n",
              "      <td>76.333333</td>\n",
              "      <td>0</td>\n",
              "      <td>0</td>\n",
              "      <td>1</td>\n",
              "      <td>0</td>\n",
              "      <td>0</td>\n",
              "    </tr>\n",
              "  </tbody>\n",
              "</table>\n",
              "</div>"
            ],
            "text/plain": [
              "   gender  parental level of education  lunch  test preparation course  \\\n",
              "0       0                            4      1                        0   \n",
              "1       0                            2      1                        1   \n",
              "2       0                            5      1                        0   \n",
              "3       0                            3      0                        0   \n",
              "4       0                            2      1                        0   \n",
              "\n",
              "   mean_score  ['race/ethnicity']_group A  ['race/ethnicity']_group B  \\\n",
              "0   72.666667                           0                           1   \n",
              "1   82.333333                           0                           0   \n",
              "2   92.666667                           0                           1   \n",
              "3   49.333333                           1                           0   \n",
              "4   76.333333                           0                           0   \n",
              "\n",
              "   ['race/ethnicity']_group C  ['race/ethnicity']_group D  \\\n",
              "0                           0                           0   \n",
              "1                           1                           0   \n",
              "2                           0                           0   \n",
              "3                           0                           0   \n",
              "4                           1                           0   \n",
              "\n",
              "   ['race/ethnicity']_group E  \n",
              "0                           0  \n",
              "1                           0  \n",
              "2                           0  \n",
              "3                           0  \n",
              "4                           0  "
            ]
          },
          "execution_count": 57,
          "metadata": {},
          "output_type": "execute_result"
        }
      ],
      "source": [
        "df.head()"
      ]
    },
    {
      "cell_type": "code",
      "execution_count": null,
      "metadata": {
        "id": "_A25Equ9vfJD",
        "outputId": "f10d7863-f179-4140-e719-05cb58c18cf8"
      },
      "outputs": [
        {
          "name": "stdout",
          "output_type": "stream",
          "text": [
            "<class 'pandas.core.frame.DataFrame'>\n",
            "Int64Index: 993 entries, 0 to 999\n",
            "Data columns (total 10 columns):\n",
            " #   Column                       Non-Null Count  Dtype  \n",
            "---  ------                       --------------  -----  \n",
            " 0   gender                       993 non-null    int64  \n",
            " 1   parental level of education  993 non-null    int64  \n",
            " 2   lunch                        993 non-null    int64  \n",
            " 3   test preparation course      993 non-null    int64  \n",
            " 4   mean_score                   993 non-null    float64\n",
            " 5   ['race/ethnicity']_group A   993 non-null    uint8  \n",
            " 6   ['race/ethnicity']_group B   993 non-null    uint8  \n",
            " 7   ['race/ethnicity']_group C   993 non-null    uint8  \n",
            " 8   ['race/ethnicity']_group D   993 non-null    uint8  \n",
            " 9   ['race/ethnicity']_group E   993 non-null    uint8  \n",
            "dtypes: float64(1), int64(4), uint8(5)\n",
            "memory usage: 83.7 KB\n"
          ]
        }
      ],
      "source": [
        "df.info()"
      ]
    },
    {
      "cell_type": "code",
      "execution_count": null,
      "metadata": {
        "id": "oJot5hfGvfJD",
        "outputId": "1fc55879-83a7-42f7-cd4e-9c3aed759f54"
      },
      "outputs": [
        {
          "data": {
            "text/html": [
              "<div>\n",
              "<style scoped>\n",
              "    .dataframe tbody tr th:only-of-type {\n",
              "        vertical-align: middle;\n",
              "    }\n",
              "\n",
              "    .dataframe tbody tr th {\n",
              "        vertical-align: top;\n",
              "    }\n",
              "\n",
              "    .dataframe thead th {\n",
              "        text-align: right;\n",
              "    }\n",
              "</style>\n",
              "<table border=\"1\" class=\"dataframe\">\n",
              "  <thead>\n",
              "    <tr style=\"text-align: right;\">\n",
              "      <th></th>\n",
              "      <th>gender</th>\n",
              "      <th>parental level of education</th>\n",
              "      <th>lunch</th>\n",
              "      <th>test preparation course</th>\n",
              "      <th>mean_score</th>\n",
              "      <th>['race/ethnicity']_group A</th>\n",
              "      <th>['race/ethnicity']_group B</th>\n",
              "      <th>['race/ethnicity']_group C</th>\n",
              "      <th>['race/ethnicity']_group D</th>\n",
              "      <th>['race/ethnicity']_group E</th>\n",
              "    </tr>\n",
              "  </thead>\n",
              "  <tbody>\n",
              "    <tr>\n",
              "      <th>count</th>\n",
              "      <td>993.0</td>\n",
              "      <td>993.000000</td>\n",
              "      <td>993.000000</td>\n",
              "      <td>993.000000</td>\n",
              "      <td>993.000000</td>\n",
              "      <td>993.000000</td>\n",
              "      <td>993.000000</td>\n",
              "      <td>993.000000</td>\n",
              "      <td>993.000000</td>\n",
              "      <td>993.000000</td>\n",
              "    </tr>\n",
              "    <tr>\n",
              "      <th>mean</th>\n",
              "      <td>0.0</td>\n",
              "      <td>2.091641</td>\n",
              "      <td>0.647533</td>\n",
              "      <td>0.359517</td>\n",
              "      <td>68.159114</td>\n",
              "      <td>0.087613</td>\n",
              "      <td>0.188318</td>\n",
              "      <td>0.320242</td>\n",
              "      <td>0.263847</td>\n",
              "      <td>0.139980</td>\n",
              "    </tr>\n",
              "    <tr>\n",
              "      <th>std</th>\n",
              "      <td>0.0</td>\n",
              "      <td>1.458658</td>\n",
              "      <td>0.477979</td>\n",
              "      <td>0.480101</td>\n",
              "      <td>13.880618</td>\n",
              "      <td>0.282874</td>\n",
              "      <td>0.391163</td>\n",
              "      <td>0.466804</td>\n",
              "      <td>0.440939</td>\n",
              "      <td>0.347141</td>\n",
              "    </tr>\n",
              "    <tr>\n",
              "      <th>min</th>\n",
              "      <td>0.0</td>\n",
              "      <td>0.000000</td>\n",
              "      <td>0.000000</td>\n",
              "      <td>0.000000</td>\n",
              "      <td>29.333333</td>\n",
              "      <td>0.000000</td>\n",
              "      <td>0.000000</td>\n",
              "      <td>0.000000</td>\n",
              "      <td>0.000000</td>\n",
              "      <td>0.000000</td>\n",
              "    </tr>\n",
              "    <tr>\n",
              "      <th>25%</th>\n",
              "      <td>0.0</td>\n",
              "      <td>1.000000</td>\n",
              "      <td>0.000000</td>\n",
              "      <td>0.000000</td>\n",
              "      <td>58.333333</td>\n",
              "      <td>0.000000</td>\n",
              "      <td>0.000000</td>\n",
              "      <td>0.000000</td>\n",
              "      <td>0.000000</td>\n",
              "      <td>0.000000</td>\n",
              "    </tr>\n",
              "    <tr>\n",
              "      <th>50%</th>\n",
              "      <td>0.0</td>\n",
              "      <td>2.000000</td>\n",
              "      <td>1.000000</td>\n",
              "      <td>0.000000</td>\n",
              "      <td>68.666667</td>\n",
              "      <td>0.000000</td>\n",
              "      <td>0.000000</td>\n",
              "      <td>0.000000</td>\n",
              "      <td>0.000000</td>\n",
              "      <td>0.000000</td>\n",
              "    </tr>\n",
              "    <tr>\n",
              "      <th>75%</th>\n",
              "      <td>0.0</td>\n",
              "      <td>3.000000</td>\n",
              "      <td>1.000000</td>\n",
              "      <td>1.000000</td>\n",
              "      <td>78.000000</td>\n",
              "      <td>0.000000</td>\n",
              "      <td>0.000000</td>\n",
              "      <td>1.000000</td>\n",
              "      <td>1.000000</td>\n",
              "      <td>0.000000</td>\n",
              "    </tr>\n",
              "    <tr>\n",
              "      <th>max</th>\n",
              "      <td>0.0</td>\n",
              "      <td>5.000000</td>\n",
              "      <td>1.000000</td>\n",
              "      <td>1.000000</td>\n",
              "      <td>104.333333</td>\n",
              "      <td>1.000000</td>\n",
              "      <td>1.000000</td>\n",
              "      <td>1.000000</td>\n",
              "      <td>1.000000</td>\n",
              "      <td>1.000000</td>\n",
              "    </tr>\n",
              "  </tbody>\n",
              "</table>\n",
              "</div>"
            ],
            "text/plain": [
              "       gender  parental level of education       lunch  \\\n",
              "count   993.0                   993.000000  993.000000   \n",
              "mean      0.0                     2.091641    0.647533   \n",
              "std       0.0                     1.458658    0.477979   \n",
              "min       0.0                     0.000000    0.000000   \n",
              "25%       0.0                     1.000000    0.000000   \n",
              "50%       0.0                     2.000000    1.000000   \n",
              "75%       0.0                     3.000000    1.000000   \n",
              "max       0.0                     5.000000    1.000000   \n",
              "\n",
              "       test preparation course  mean_score  ['race/ethnicity']_group A  \\\n",
              "count               993.000000  993.000000                  993.000000   \n",
              "mean                  0.359517   68.159114                    0.087613   \n",
              "std                   0.480101   13.880618                    0.282874   \n",
              "min                   0.000000   29.333333                    0.000000   \n",
              "25%                   0.000000   58.333333                    0.000000   \n",
              "50%                   0.000000   68.666667                    0.000000   \n",
              "75%                   1.000000   78.000000                    0.000000   \n",
              "max                   1.000000  104.333333                    1.000000   \n",
              "\n",
              "       ['race/ethnicity']_group B  ['race/ethnicity']_group C  \\\n",
              "count                  993.000000                  993.000000   \n",
              "mean                     0.188318                    0.320242   \n",
              "std                      0.391163                    0.466804   \n",
              "min                      0.000000                    0.000000   \n",
              "25%                      0.000000                    0.000000   \n",
              "50%                      0.000000                    0.000000   \n",
              "75%                      0.000000                    1.000000   \n",
              "max                      1.000000                    1.000000   \n",
              "\n",
              "       ['race/ethnicity']_group D  ['race/ethnicity']_group E  \n",
              "count                  993.000000                  993.000000  \n",
              "mean                     0.263847                    0.139980  \n",
              "std                      0.440939                    0.347141  \n",
              "min                      0.000000                    0.000000  \n",
              "25%                      0.000000                    0.000000  \n",
              "50%                      0.000000                    0.000000  \n",
              "75%                      1.000000                    0.000000  \n",
              "max                      1.000000                    1.000000  "
            ]
          },
          "execution_count": 59,
          "metadata": {},
          "output_type": "execute_result"
        }
      ],
      "source": [
        "df.describe()"
      ]
    },
    {
      "cell_type": "code",
      "execution_count": null,
      "metadata": {
        "id": "886rTRlvvfJD",
        "outputId": "457a94e1-a4a7-4d03-cee9-b06fef4f664b"
      },
      "outputs": [
        {
          "data": {
            "text/plain": [
              "(993, 10)"
            ]
          },
          "execution_count": 60,
          "metadata": {},
          "output_type": "execute_result"
        }
      ],
      "source": [
        "df.shape"
      ]
    },
    {
      "cell_type": "markdown",
      "metadata": {
        "id": "v1SHIb9kvfJD"
      },
      "source": [
        "Feature Scaling"
      ]
    },
    {
      "cell_type": "code",
      "execution_count": null,
      "metadata": {
        "id": "z-ov3MP9vfJD"
      },
      "outputs": [],
      "source": [
        "from sklearn.preprocessing import StandardScaler"
      ]
    },
    {
      "cell_type": "code",
      "execution_count": null,
      "metadata": {
        "id": "zkTCqc7CvfJD",
        "outputId": "accbd082-d208-4368-8637-caf4ac1d9edc"
      },
      "outputs": [
        {
          "data": {
            "text/plain": [
              "gender                           0.000000\n",
              "parental level of education      2.127682\n",
              "lunch                            0.228464\n",
              "test preparation course          0.230497\n",
              "mean_score                     192.671566\n",
              "['race/ethnicity']_group A       0.080018\n",
              "['race/ethnicity']_group B       0.153009\n",
              "['race/ethnicity']_group C       0.217906\n",
              "['race/ethnicity']_group D       0.194428\n",
              "['race/ethnicity']_group E       0.120507\n",
              "dtype: float64"
            ]
          },
          "execution_count": 62,
          "metadata": {},
          "output_type": "execute_result"
        }
      ],
      "source": [
        "#Overview variances from feature\n",
        "df.var()"
      ]
    },
    {
      "cell_type": "code",
      "execution_count": null,
      "metadata": {
        "id": "5tyyRy9ovfJD"
      },
      "outputs": [],
      "source": [
        "scaler = StandardScaler()\n",
        "df_scaled = pd.DataFrame(scaler.fit_transform(df), columns=df.columns)"
      ]
    },
    {
      "cell_type": "code",
      "execution_count": null,
      "metadata": {
        "id": "iycMo96gvfJE",
        "outputId": "4d07ce92-4e1b-4c7c-ce42-be14e14519b8"
      },
      "outputs": [
        {
          "data": {
            "text/plain": [
              "gender                         0.000000\n",
              "parental level of education    1.001008\n",
              "lunch                          1.001008\n",
              "test preparation course        1.001008\n",
              "mean_score                     1.001008\n",
              "['race/ethnicity']_group A     1.001008\n",
              "['race/ethnicity']_group B     1.001008\n",
              "['race/ethnicity']_group C     1.001008\n",
              "['race/ethnicity']_group D     1.001008\n",
              "['race/ethnicity']_group E     1.001008\n",
              "dtype: float64"
            ]
          },
          "execution_count": 67,
          "metadata": {},
          "output_type": "execute_result"
        }
      ],
      "source": [
        "df_scaled.var()"
      ]
    },
    {
      "cell_type": "markdown",
      "metadata": {
        "id": "nBaoJJGlvfJE"
      },
      "source": [
        "Evaluation models"
      ]
    },
    {
      "cell_type": "code",
      "execution_count": null,
      "metadata": {
        "id": "W25VmEPAvfJE"
      },
      "outputs": [],
      "source": [
        "from sklearn.model_selection import train_test_split, cross_val_score   \n",
        "from sklearn.linear_model import LinearRegression\n",
        "from sklearn.linear_model import Lasso\n",
        "from sklearn.tree import DecisionTreeRegressor\n",
        "from sklearn.metrics import mean_squared_error"
      ]
    },
    {
      "cell_type": "markdown",
      "metadata": {
        "id": "XONlhZyavfJE"
      },
      "source": [
        "Spliting data"
      ]
    },
    {
      "cell_type": "code",
      "execution_count": null,
      "metadata": {
        "id": "6ssJQw3PvfJE",
        "outputId": "a4af3a1e-832d-40bf-9fdc-179252ace6c6"
      },
      "outputs": [
        {
          "name": "stdout",
          "output_type": "stream",
          "text": [
            "(695, 9)\n",
            "(298, 9)\n",
            "(695,)\n"
          ]
        }
      ],
      "source": [
        "X = df_scaled.drop(columns='mean_score', axis=1)\n",
        "y = df_scaled['mean_score']\n",
        "\n",
        "X_train, X_test, y_train, y_test = train_test_split(X, y, test_size=0.3, random_state=21)\n",
        "\n",
        "print(X_train.shape)\n",
        "print(X_test.shape)\n",
        "print(y_train.shape)"
      ]
    },
    {
      "cell_type": "markdown",
      "metadata": {
        "id": "z8gZDzYxvfJE"
      },
      "source": [
        "Linear Regression"
      ]
    },
    {
      "cell_type": "code",
      "execution_count": null,
      "metadata": {
        "id": "0DhV6b3NvfJE"
      },
      "outputs": [],
      "source": [
        "lr = LinearRegression()\n",
        "lr.fit(X_train, y_train)\n",
        "y_pred_lr = lr.predict(X_test)"
      ]
    },
    {
      "cell_type": "code",
      "execution_count": null,
      "metadata": {
        "id": "U061zHTWvfJE",
        "outputId": "fcfcc1bf-876b-4517-ff08-1121553f2134"
      },
      "outputs": [
        {
          "data": {
            "text/plain": [
              "0.20974456557000276"
            ]
          },
          "execution_count": 72,
          "metadata": {},
          "output_type": "execute_result"
        }
      ],
      "source": [
        "lr.score(X_test, y_test)"
      ]
    },
    {
      "cell_type": "code",
      "execution_count": null,
      "metadata": {
        "id": "xGgKUIVtvfJE",
        "outputId": "3679ec7c-d20c-4b4e-bc88-a24cc5f3da7b"
      },
      "outputs": [
        {
          "data": {
            "text/plain": [
              "0.7887102350402885"
            ]
          },
          "execution_count": 73,
          "metadata": {},
          "output_type": "execute_result"
        }
      ],
      "source": [
        "mean_squared_error(y_test, y_pred_lr)"
      ]
    },
    {
      "cell_type": "code",
      "execution_count": null,
      "metadata": {
        "id": "-2PJzNUBvfJF",
        "outputId": "8a0005d1-ab48-4835-c59a-15d4122c3ebf"
      },
      "outputs": [
        {
          "data": {
            "text/plain": [
              "0.8880935958784347"
            ]
          },
          "execution_count": 74,
          "metadata": {},
          "output_type": "execute_result"
        }
      ],
      "source": [
        "#RSME\n",
        "rsme_lr = mean_squared_error(y_test, y_pred_lr)**(1/2)\n",
        "rsme_lr"
      ]
    },
    {
      "cell_type": "markdown",
      "metadata": {
        "id": "oK2zkx6ovfJF"
      },
      "source": [
        "Lasso"
      ]
    },
    {
      "cell_type": "code",
      "execution_count": null,
      "metadata": {
        "id": "mRH2YX32vfJF"
      },
      "outputs": [],
      "source": [
        "lasso = Lasso(alpha=0.1)\n",
        "lasso.fit(X_train, y_train)\n",
        "y_pred_lasso = lasso.predict(X_test)"
      ]
    },
    {
      "cell_type": "code",
      "execution_count": null,
      "metadata": {
        "id": "tfmSxNhMvfJF",
        "outputId": "2c23559d-9ab6-46b1-8d53-b73abb3c77a3"
      },
      "outputs": [
        {
          "data": {
            "text/plain": [
              "0.1474101438646419"
            ]
          },
          "execution_count": 83,
          "metadata": {},
          "output_type": "execute_result"
        }
      ],
      "source": [
        "lasso.score(X_test, y_test)"
      ]
    },
    {
      "cell_type": "code",
      "execution_count": null,
      "metadata": {
        "id": "8yeRtlAmvfJF",
        "outputId": "1a21db91-9239-44ea-e644-2147d0231464"
      },
      "outputs": [
        {
          "data": {
            "text/plain": [
              "0.850922773230294"
            ]
          },
          "execution_count": 84,
          "metadata": {},
          "output_type": "execute_result"
        }
      ],
      "source": [
        "mean_squared_error(y_test, y_pred_lasso)"
      ]
    },
    {
      "cell_type": "code",
      "execution_count": null,
      "metadata": {
        "id": "dbeQ3x44vfJF",
        "outputId": "bdd18940-5eca-4ab4-cac4-e4981e765e9c"
      },
      "outputs": [
        {
          "data": {
            "text/plain": [
              "0.9224547540287783"
            ]
          },
          "execution_count": 85,
          "metadata": {},
          "output_type": "execute_result"
        }
      ],
      "source": [
        "rsme_lasso = mean_squared_error(y_test, y_pred_lasso)**(1/2)\n",
        "rsme_lasso"
      ]
    },
    {
      "cell_type": "code",
      "execution_count": null,
      "metadata": {
        "id": "DOtF2NLIvfJF",
        "outputId": "49daa810-df11-42f7-9449-b12f55b61614"
      },
      "outputs": [
        {
          "data": {
            "text/plain": [
              "array([ 0.        ,  0.08802334,  0.19179722,  0.14645451, -0.        ,\n",
              "       -0.        , -0.        ,  0.        ,  0.01780893])"
            ]
          },
          "execution_count": 97,
          "metadata": {},
          "output_type": "execute_result"
        }
      ],
      "source": [
        "lasso.coef_"
      ]
    },
    {
      "cell_type": "markdown",
      "metadata": {
        "id": "9CGPSW-EvfJF"
      },
      "source": [
        "Decision Tree"
      ]
    },
    {
      "cell_type": "code",
      "execution_count": null,
      "metadata": {
        "id": "G1wrvK_0vfJF"
      },
      "outputs": [],
      "source": [
        "dt = DecisionTreeRegressor(max_depth=5)\n",
        "dt.fit(X_train, y_train)\n",
        "y_pred_dt = dt.predict(X_test)"
      ]
    },
    {
      "cell_type": "code",
      "execution_count": null,
      "metadata": {
        "id": "Dx7l9UUevfJG",
        "outputId": "aeafb03b-1e73-4750-e7d9-473697850a45"
      },
      "outputs": [
        {
          "data": {
            "text/plain": [
              "0.23817093022707392"
            ]
          },
          "execution_count": 93,
          "metadata": {},
          "output_type": "execute_result"
        }
      ],
      "source": [
        "dt.score(X_train, y_train)"
      ]
    },
    {
      "cell_type": "code",
      "execution_count": null,
      "metadata": {
        "id": "cV-J09J_vfJG",
        "outputId": "2f0e7bb5-167f-4f73-dc76-742c1b1417c2"
      },
      "outputs": [
        {
          "data": {
            "text/plain": [
              "0.13837337685209172"
            ]
          },
          "execution_count": 94,
          "metadata": {},
          "output_type": "execute_result"
        }
      ],
      "source": [
        "dt.score(X_test, y_test)"
      ]
    },
    {
      "cell_type": "code",
      "execution_count": null,
      "metadata": {
        "id": "D8wwuYNxvfJG",
        "outputId": "d1888aaa-5ece-4006-c7e7-307246bd8c0a"
      },
      "outputs": [
        {
          "data": {
            "text/plain": [
              "0.8599418705043463"
            ]
          },
          "execution_count": 95,
          "metadata": {},
          "output_type": "execute_result"
        }
      ],
      "source": [
        "mean_squared_error(y_test, y_pred_dt)"
      ]
    },
    {
      "cell_type": "code",
      "execution_count": null,
      "metadata": {
        "id": "23LPb69jvfJG",
        "outputId": "025dec4c-0c7c-4327-bae8-e0de23738009"
      },
      "outputs": [
        {
          "data": {
            "text/plain": [
              "0.9273305076963371"
            ]
          },
          "execution_count": 96,
          "metadata": {},
          "output_type": "execute_result"
        }
      ],
      "source": [
        "rsme_dt = mean_squared_error(y_test, y_pred_dt)**(1/2)\n",
        "rsme_dt"
      ]
    },
    {
      "cell_type": "code",
      "execution_count": null,
      "metadata": {
        "id": "ZVaisUMfvfJG",
        "outputId": "b95d2441-05a3-4b20-d354-a85152f80dd1"
      },
      "outputs": [
        {
          "data": {
            "text/plain": [
              "array([0.        , 0.26313191, 0.35783982, 0.25242751, 0.03705292,\n",
              "       0.030023  , 0.03285902, 0.00592272, 0.0207431 ])"
            ]
          },
          "execution_count": 99,
          "metadata": {},
          "output_type": "execute_result"
        }
      ],
      "source": [
        "dt.feature_importances_"
      ]
    },
    {
      "cell_type": "code",
      "execution_count": null,
      "metadata": {
        "id": "vTaCi4DzvfJG",
        "outputId": "926e24c5-5b96-4f86-cfce-6547dab59438"
      },
      "outputs": [
        {
          "data": {
            "image/png": "[encoded data removed]",
            "text/plain": [
              "<Figure size 720x576 with 1 Axes>"
            ]
          },
          "metadata": {
            "needs_background": "light"
          },
          "output_type": "display_data"
        }
      ],
      "source": [
        "plt.figure(figsize = (10,8))\n",
        "dt_importance = pd.Series(dt.feature_importances_,index=X.columns)\n",
        "dt_importance = dt_importance.sort_values(ascending = False)\n",
        "sns.barplot(x=dt_importance, y=dt_importance.index)\n",
        "plt.show()"
      ]
    }
  ],
  "metadata": {
    "colab": {
      "provenance": [],
      "include_colab_link": true
    },
    "kernelspec": {
      "display_name": "Python 3.9.7 ('base')",
      "language": "python",
      "name": "python3"
    },
    "language_info": {
      "codemirror_mode": {
        "name": "ipython",
        "version": 3
      },
      "file_extension": ".py",
      "mimetype": "text/x-python",
      "name": "python",
      "nbconvert_exporter": "python",
      "pygments_lexer": "ipython3",
      "version": "3.9.7"
    },
    "vscode": {
      "interpreter": {
        "hash": "baaf6bb3eba18ac80bcc0afd83791891354f9d69b5fa88bffe0d909424fdae2f"
      }
    }
  },
  "nbformat": 4,
  "nbformat_minor": 0
}